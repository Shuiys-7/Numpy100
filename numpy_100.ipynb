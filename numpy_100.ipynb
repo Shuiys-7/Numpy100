{
 "cells": [
  {
   "cell_type": "markdown",
   "source": [
    "1. 导入numpy库并简写为 np (★☆☆)\n",
    "(提示: import … as …)"
   ],
   "metadata": {
    "collapsed": false
   },
   "id": "f808e00020365b19"
  },
  {
   "cell_type": "code",
   "outputs": [],
   "source": [],
   "metadata": {
    "collapsed": false
   },
   "id": "9e4329697134c146"
  },
  {
   "cell_type": "markdown",
   "source": [
    "2. 打印numpy的版本和配置说明 (★☆☆)\n",
    "(提示: np.__version__, np.show_config)"
   ],
   "metadata": {
    "collapsed": false
   },
   "id": "7b1f76a075a061a3"
  },
  {
   "cell_type": "code",
   "outputs": [],
   "source": [],
   "metadata": {
    "collapsed": false
   },
   "id": "6a24ae067e62c0f4"
  },
  {
   "cell_type": "markdown",
   "source": [
    "3. 创建一个长度为10的空向量 (★☆☆)\n",
    "(提示: np.zeros)"
   ],
   "metadata": {
    "collapsed": false
   },
   "id": "54a85da3f5383187"
  },
  {
   "cell_type": "code",
   "outputs": [],
   "source": [],
   "metadata": {
    "collapsed": false
   },
   "id": "b142db41ad41bdb6"
  },
  {
   "cell_type": "markdown",
   "source": [
    "4. 如何找到任何一个数组的内存大小？ (★☆☆)\n",
    "(提示: size, itemsize)"
   ],
   "metadata": {
    "collapsed": false
   },
   "id": "a22dcbb86abe7635"
  },
  {
   "cell_type": "code",
   "outputs": [],
   "source": [],
   "metadata": {
    "collapsed": false
   },
   "id": "5e70ae49b7f27a32"
  },
  {
   "cell_type": "markdown",
   "source": [
    "5. 如何从命令行得到numpy中add函数的说明文档? (★☆☆) \n",
    "(提示: np.info)"
   ],
   "metadata": {
    "collapsed": false
   },
   "id": "8846d73f9224877b"
  },
  {
   "cell_type": "code",
   "outputs": [],
   "source": [],
   "metadata": {
    "collapsed": false
   },
   "id": "23f3f0d35457557d"
  },
  {
   "cell_type": "markdown",
   "source": [
    "6. 创建一个长度为10并且除了第五个值为1的空向量 (★☆☆)\n",
    "(提示: array[4])"
   ],
   "metadata": {
    "collapsed": false
   },
   "id": "fe880995c793a401"
  },
  {
   "cell_type": "code",
   "outputs": [],
   "source": [],
   "metadata": {
    "collapsed": false
   },
   "id": "b5f404763f2e05c6"
  },
  {
   "cell_type": "markdown",
   "source": [
    "7. 创建一个值域范围从10到49的向量(★☆☆)\n",
    "(提示: np.arange)"
   ],
   "metadata": {
    "collapsed": false
   },
   "id": "8995bc63e50f33b7"
  },
  {
   "cell_type": "code",
   "outputs": [],
   "source": [],
   "metadata": {
    "collapsed": false
   },
   "id": "b9f7ce9ea1d88865"
  },
  {
   "cell_type": "markdown",
   "source": [
    "8. 反转一个向量(第一个元素变为最后一个) (★☆☆)\n",
    "(提示: array[::-1])"
   ],
   "metadata": {
    "collapsed": false
   },
   "id": "2e3ade5e4fbee9ff"
  },
  {
   "cell_type": "code",
   "outputs": [],
   "source": [],
   "metadata": {
    "collapsed": false
   },
   "id": "c3c69e06d4344d14"
  },
  {
   "cell_type": "markdown",
   "source": [
    "9. 创建一个 3x3 并且值从0到8的矩阵(★☆☆)\n",
    "(提示: reshape)"
   ],
   "metadata": {
    "collapsed": false
   },
   "id": "dc6fdc5335ce2ff0"
  },
  {
   "cell_type": "code",
   "outputs": [],
   "source": [],
   "metadata": {
    "collapsed": false
   },
   "id": "83c07def7496c94d"
  },
  {
   "cell_type": "markdown",
   "source": [
    "10. 找到数组[1,2,0,0,4,0]中非0元素的位置索引 (★☆☆)\n",
    "(提示: np.nonzero)"
   ],
   "metadata": {
    "collapsed": false
   },
   "id": "95c5f8ec9199cec8"
  },
  {
   "cell_type": "code",
   "outputs": [],
   "source": [],
   "metadata": {
    "collapsed": false
   },
   "id": "a69922f14a7bfe5c"
  },
  {
   "cell_type": "markdown",
   "source": [
    "11. 创建一个 3x3 的单位矩阵 (★☆☆)\n",
    "(提示: np.eye)"
   ],
   "metadata": {
    "collapsed": false
   },
   "id": "e54ed43ba838a6b6"
  },
  {
   "cell_type": "code",
   "outputs": [],
   "source": [],
   "metadata": {
    "collapsed": false
   },
   "id": "fd223694c4221a47"
  },
  {
   "cell_type": "markdown",
   "source": [
    "12. 创建一个 3x3x3的随机数组 (★☆☆)\n",
    "(提示: np.random.random)"
   ],
   "metadata": {
    "collapsed": false
   },
   "id": "47d40ce39b057590"
  },
  {
   "cell_type": "code",
   "outputs": [],
   "source": [],
   "metadata": {
    "collapsed": false
   },
   "id": "486384b93922336f"
  },
  {
   "cell_type": "markdown",
   "source": [
    "13. 创建一个 10x10 的随机数组并找到它的最大值和最小值 (★☆☆)\n",
    "(提示: min, max)"
   ],
   "metadata": {
    "collapsed": false
   },
   "id": "cbba23e26a1ba3ff"
  },
  {
   "cell_type": "code",
   "outputs": [],
   "source": [],
   "metadata": {
    "collapsed": false
   },
   "id": "e659f0e9638804fe"
  },
  {
   "cell_type": "markdown",
   "source": [
    "14. 创建一个长度为30的随机向量并找到它的平均值 (★☆☆)\n",
    "(提示: mean)"
   ],
   "metadata": {
    "collapsed": false
   },
   "id": "bc2667d822404054"
  },
  {
   "cell_type": "code",
   "outputs": [],
   "source": [],
   "metadata": {
    "collapsed": false
   },
   "id": "6e5c3b25c4370615"
  },
  {
   "cell_type": "markdown",
   "source": [
    "15. 创建一个二维数组，其中边界值为1，其余值为0 (★☆☆)\n",
    "(提示: array[1:-1, 1:-1])"
   ],
   "metadata": {
    "collapsed": false
   },
   "id": "aa2d2ed530acab"
  },
  {
   "cell_type": "code",
   "outputs": [],
   "source": [],
   "metadata": {
    "collapsed": false
   },
   "id": "2b6030c2db5bdc7a"
  },
  {
   "cell_type": "markdown",
   "source": [
    "16. 对于一个存在在数组，如何添加一个用0填充的边界? (★☆☆)\n",
    "(提示: np.pad)"
   ],
   "metadata": {
    "collapsed": false
   },
   "id": "f69495bbcfaaca4c"
  },
  {
   "cell_type": "code",
   "outputs": [],
   "source": [],
   "metadata": {
    "collapsed": false
   },
   "id": "b82ed7d4868e2dc0"
  },
  {
   "cell_type": "markdown",
   "source": [
    "17. 以下表达式运行的结果分别是什么? (★☆☆)\n",
    "(提示: NaN = not a number, inf = infinity)\n",
    "\n",
    "    0 * np.nan\n",
    "    np.nan == np.nan\n",
    "    np.inf > np.nan\n",
    "    np.nan - np.nan\n",
    "    0.3 == 3 * 0.1"
   ],
   "metadata": {
    "collapsed": false
   },
   "id": "1bc8b560f0adebf"
  },
  {
   "cell_type": "code",
   "outputs": [],
   "source": [],
   "metadata": {
    "collapsed": false
   },
   "id": "6449216519724cf5"
  },
  {
   "cell_type": "markdown",
   "source": [
    "18. 创建一个 5x5的矩阵，并设置值1,2,3,4落在其对角线下方位置 (★☆☆)\n",
    "(提示: np.diag)"
   ],
   "metadata": {
    "collapsed": false
   },
   "id": "49a9d337d2457306"
  },
  {
   "cell_type": "code",
   "outputs": [],
   "source": [],
   "metadata": {
    "collapsed": false
   },
   "id": "8e6213080a8b7fbd"
  },
  {
   "cell_type": "markdown",
   "source": [
    "19. 创建一个 8x8 的矩阵，并且设置成棋盘样式 (★☆☆)\n",
    "(提示: array[::2])"
   ],
   "metadata": {
    "collapsed": false
   },
   "id": "2977f2b5f61c4b5"
  },
  {
   "cell_type": "code",
   "outputs": [],
   "source": [],
   "metadata": {
    "collapsed": false
   },
   "id": "8781b7449bec9a53"
  },
  {
   "cell_type": "markdown",
   "source": [
    "20. 考虑一个 (6,7,8) 形状的数组，其第100个元素的索引(x,y,z)是什么?\n",
    "(提示: np.unravel_index)"
   ],
   "metadata": {
    "collapsed": false
   },
   "id": "3da653f656562a6c"
  },
  {
   "cell_type": "code",
   "outputs": [],
   "source": [],
   "metadata": {
    "collapsed": false
   },
   "id": "6aae17e97afebfd1"
  },
  {
   "cell_type": "markdown",
   "source": [
    "21. 用tile函数去创建一个 8x8的棋盘样式矩阵(★☆☆)\n",
    "(提示: np.tile)"
   ],
   "metadata": {
    "collapsed": false
   },
   "id": "af78f1db0377637b"
  },
  {
   "cell_type": "code",
   "outputs": [],
   "source": [],
   "metadata": {
    "collapsed": false
   },
   "id": "71b2684b2c789299"
  },
  {
   "cell_type": "markdown",
   "source": [
    "22. 对一个5x5的随机矩阵做归一化(★☆☆)\n",
    "(提示: (x - min) / (max - min))"
   ],
   "metadata": {
    "collapsed": false
   },
   "id": "56eefbc2fa934898"
  },
  {
   "cell_type": "code",
   "outputs": [],
   "source": [],
   "metadata": {
    "collapsed": false
   },
   "id": "8807900291f9221"
  },
  {
   "cell_type": "markdown",
   "source": [
    "23. 创建一个将颜色描述为(RGBA)四个无符号字节的自定义dtype？(★☆☆)\n",
    "(提示: np.dtype)"
   ],
   "metadata": {
    "collapsed": false
   },
   "id": "2a71e1867e80d2e3"
  },
  {
   "cell_type": "code",
   "outputs": [],
   "source": [],
   "metadata": {
    "collapsed": false
   },
   "id": "2c6128deb812f65"
  },
  {
   "cell_type": "markdown",
   "source": [
    "24. 一个5x3的矩阵与一个3x2的矩阵相乘，实矩阵乘积是什么？ (★☆☆)\n",
    "(提示: np.dot | @)"
   ],
   "metadata": {
    "collapsed": false
   },
   "id": "21610128481e09f7"
  },
  {
   "cell_type": "code",
   "outputs": [],
   "source": [],
   "metadata": {
    "collapsed": false
   },
   "id": "ab7e78639d04b1ab"
  },
  {
   "cell_type": "markdown",
   "source": [
    "25. 给定一个一维数组，对其在3到8之间的所有元素取反 (★☆☆)\n",
    "(提示: >, <=)"
   ],
   "metadata": {
    "collapsed": false
   },
   "id": "d0ee0030e106bfea"
  },
  {
   "cell_type": "code",
   "outputs": [],
   "source": [],
   "metadata": {
    "collapsed": false
   },
   "id": "fc23ed552d4a61e1"
  },
  {
   "cell_type": "markdown",
   "source": [
    "26. 下面脚本运行后的结果是什么? (★☆☆)\n",
    "(提示: np.sum)\n",
    "\n",
    "    print(sum(range(5),-1))\n",
    "    from numpy import *\n",
    "    print(sum(range(5),-1))"
   ],
   "metadata": {
    "collapsed": false
   },
   "id": "12c774f790c0aab3"
  },
  {
   "cell_type": "code",
   "outputs": [],
   "source": [],
   "metadata": {
    "collapsed": false
   },
   "id": "fb3d267490cf1c32"
  },
  {
   "cell_type": "markdown",
   "source": [
    "27. 考虑一个整数向量Z,下列表达合法的是哪个? (★☆☆)\n",
    "    Z**Z\n",
    "    2 << Z >> 2\n",
    "    Z <- Z\n",
    "    1j*Z\n",
    "    Z/1/1\n",
    "    Z<Z>Z"
   ],
   "metadata": {
    "collapsed": false
   },
   "id": "34dcf3c9ab391ebb"
  },
  {
   "cell_type": "code",
   "outputs": [],
   "source": [],
   "metadata": {
    "collapsed": false
   },
   "id": "76c804cdf1651d13"
  },
  {
   "cell_type": "markdown",
   "source": [
    "28. 下列表达式的结果分别是什么?(★☆☆)\n",
    "np.array(0) / np.array(0)\n",
    "np.array(0) // np.array(0)\n",
    "np.array([np.nan]).astype(int).astype(float)"
   ],
   "metadata": {
    "collapsed": false
   },
   "id": "a7d977e4db6af6eb"
  },
  {
   "cell_type": "code",
   "outputs": [],
   "source": [],
   "metadata": {
    "collapsed": false
   },
   "id": "1be8d8790e774374"
  },
  {
   "cell_type": "markdown",
   "source": [
    "29. 如何从零位对浮点数组做舍入 ? (★☆☆)\n",
    "(提示: np.uniform, np.copysign, np.ceil, np.abs)"
   ],
   "metadata": {
    "collapsed": false
   },
   "id": "572b3023604ff642"
  },
  {
   "cell_type": "code",
   "outputs": [],
   "source": [],
   "metadata": {
    "collapsed": false
   },
   "id": "a2e3ae1a429df4bf"
  },
  {
   "cell_type": "markdown",
   "source": [
    "30. 如何找到两个数组中的共同元素? (★☆☆)\n",
    "(提示: np.intersect1d)"
   ],
   "metadata": {
    "collapsed": false
   },
   "id": "8b204654fb9ac728"
  },
  {
   "cell_type": "code",
   "outputs": [],
   "source": [],
   "metadata": {
    "collapsed": false
   },
   "id": "118f04c0a4e13681"
  },
  {
   "cell_type": "markdown",
   "source": [
    "31. 如何忽略所有的 numpy 警告(尽管不建议这么做)? (★☆☆)\n",
    "(提示: np.seterr, np.errstate)"
   ],
   "metadata": {
    "collapsed": false
   },
   "id": "5740838edbf01cd"
  },
  {
   "cell_type": "code",
   "outputs": [],
   "source": [],
   "metadata": {
    "collapsed": false
   },
   "id": "d06f863e2a8f3b6a"
  },
  {
   "cell_type": "markdown",
   "source": [
    "32. 下面的表达式是正确的吗? (★☆☆)\n",
    "(提示: imaginary number)\n",
    "np.sqrt(-1) == np.emath.sqrt(-1)"
   ],
   "metadata": {
    "collapsed": false
   },
   "id": "3e1589b3415d594f"
  },
  {
   "cell_type": "code",
   "outputs": [],
   "source": [],
   "metadata": {
    "collapsed": false
   },
   "id": "9bced23d246351af"
  },
  {
   "cell_type": "markdown",
   "source": [
    "33. 如何得到昨天，今天，明天的日期? (★☆☆)\n",
    "(提示: np.datetime64, np.timedelta64)"
   ],
   "metadata": {
    "collapsed": false
   },
   "id": "57e7fc50b4a7327b"
  },
  {
   "cell_type": "code",
   "outputs": [],
   "source": [],
   "metadata": {
    "collapsed": false
   },
   "id": "59900cb85e92dc7"
  },
  {
   "cell_type": "markdown",
   "source": [
    "34. 如何得到所有与2016年7月对应的日期？ (★★☆)\n",
    "(提示: np.arange(dtype=datetime64['D']))"
   ],
   "metadata": {
    "collapsed": false
   },
   "id": "b96f614eef9c845d"
  },
  {
   "cell_type": "code",
   "outputs": [],
   "source": [],
   "metadata": {
    "collapsed": false
   },
   "id": "b61123c9854ad98c"
  },
  {
   "cell_type": "markdown",
   "source": [
    "35. 如何直接在位计算(A+B)\\*(-A/2)(不建立副本)? (★★☆)\n",
    "(提示: np.add(out=), np.negative(out=), np.multiply(out=), np.divide(out=))"
   ],
   "metadata": {
    "collapsed": false
   },
   "id": "ffa5a6509d987aa2"
  },
  {
   "cell_type": "code",
   "outputs": [],
   "source": [],
   "metadata": {
    "collapsed": false
   },
   "id": "b95c57dbf62a164"
  },
  {
   "cell_type": "markdown",
   "source": [
    "36. 用五种不同的方法去提取一个随机数组的整数部分(★★☆)\n",
    "(提示: %, np.floor, np.ceil, astype, np.trunc)"
   ],
   "metadata": {
    "collapsed": false
   },
   "id": "1b8e68a4b82cc7cb"
  },
  {
   "cell_type": "code",
   "outputs": [],
   "source": [],
   "metadata": {
    "collapsed": false
   },
   "id": "2a293d7215ebdcea"
  },
  {
   "cell_type": "markdown",
   "source": [
    "37. 创建一个5x5的矩阵，其中每行的数值范围从0到4 (★★☆)\n",
    "(提示: np.arange)"
   ],
   "metadata": {
    "collapsed": false
   },
   "id": "262dff329397852f"
  },
  {
   "cell_type": "code",
   "outputs": [],
   "source": [],
   "metadata": {
    "collapsed": false
   },
   "id": "40a1557d3c6375c1"
  },
  {
   "cell_type": "markdown",
   "source": [
    "38. 通过考虑一个可生成10个整数的函数，来构建一个数组(★☆☆)\n",
    "(提示: np.fromiter)"
   ],
   "metadata": {
    "collapsed": false
   },
   "id": "6d17f5adbf682e00"
  },
  {
   "cell_type": "code",
   "outputs": [],
   "source": [],
   "metadata": {
    "collapsed": false
   },
   "id": "62cba2df5b5ae964"
  },
  {
   "cell_type": "markdown",
   "source": [
    "39. 创建一个长度为10的随机向量，其值域范围从0到1，但是不包括0和1 (★★☆)\n",
    "(提示: np.linspace)"
   ],
   "metadata": {
    "collapsed": false
   },
   "id": "b8797f7ad07f78d5"
  },
  {
   "cell_type": "code",
   "outputs": [],
   "source": [],
   "metadata": {
    "collapsed": false
   },
   "id": "de0551c30fe96b11"
  },
  {
   "cell_type": "markdown",
   "source": [
    "40. 创建一个长度为10的随机向量，并将其排序 (★★☆)\n",
    "(提示: sort)"
   ],
   "metadata": {
    "collapsed": false
   },
   "id": "12e099f0ff32fe8e"
  },
  {
   "cell_type": "code",
   "outputs": [],
   "source": [],
   "metadata": {
    "collapsed": false
   },
   "id": "6d6722d2b11d732c"
  },
  {
   "cell_type": "markdown",
   "source": [
    "41. 对于一个小数组，如何用比 np.sum更快的方式对其求和？(★★☆)\n",
    "(提示: np.add.reduce)"
   ],
   "metadata": {
    "collapsed": false
   },
   "id": "d716d97367d1d95e"
  },
  {
   "cell_type": "code",
   "outputs": [],
   "source": [],
   "metadata": {
    "collapsed": false
   },
   "id": "9d57dd110475491c"
  },
  {
   "cell_type": "markdown",
   "source": [
    "42. 对于两个随机数组A和B，检查它们是否相等(★★☆)\n",
    "(提示: np.allclose, np.array_equal)"
   ],
   "metadata": {
    "collapsed": false
   },
   "id": "9204581ce09e5443"
  },
  {
   "cell_type": "code",
   "outputs": [],
   "source": [],
   "metadata": {
    "collapsed": false
   },
   "id": "e65d0f32d5ad5e21"
  },
  {
   "cell_type": "markdown",
   "source": [
    "43. 创建一个只读数组(read-only) (★★☆)\n",
    "(提示: flags.writeable)"
   ],
   "metadata": {
    "collapsed": false
   },
   "id": "550d7fefcb1af6a"
  },
  {
   "cell_type": "code",
   "outputs": [],
   "source": [],
   "metadata": {
    "collapsed": false
   },
   "id": "1076e3f131e0620"
  },
  {
   "cell_type": "markdown",
   "source": [
    "44. 将笛卡尔坐标下的一个10x2的矩阵转换为极坐标形式(★★☆)\n",
    "(hint: np.sqrt, np.arctan2)"
   ],
   "metadata": {
    "collapsed": false
   },
   "id": "7a4f4e113c4c434b"
  },
  {
   "cell_type": "code",
   "outputs": [],
   "source": [],
   "metadata": {
    "collapsed": false
   },
   "id": "cfb580022bb109e3"
  },
  {
   "cell_type": "markdown",
   "source": [
    "45. 创建一个长度为10的向量，并将向量中最大值替换为1 (★★☆)\n",
    "(提示: argmax)"
   ],
   "metadata": {
    "collapsed": false
   },
   "id": "2d6c1b4e0981c1d"
  },
  {
   "cell_type": "code",
   "outputs": [],
   "source": [],
   "metadata": {
    "collapsed": false
   },
   "id": "6218ec8554249d9e"
  },
  {
   "cell_type": "markdown",
   "source": [
    "46. 创建一个结构化数组，并实现 x 和 y 坐标覆盖 [0,1]x[0,1] 区域 (★★☆)\n",
    "(提示: np.meshgrid)"
   ],
   "metadata": {
    "collapsed": false
   },
   "id": "79d0506981a58421"
  },
  {
   "cell_type": "code",
   "outputs": [],
   "source": [],
   "metadata": {
    "collapsed": false
   },
   "id": "6ad46cb1dac58a94"
  },
  {
   "cell_type": "markdown",
   "source": [
    "47. 给定两个数组X和Y，构造Cauchy矩阵C (Cij =1/(xi - yj))\n",
    "(提示: np.subtract.outer)"
   ],
   "metadata": {
    "collapsed": false
   },
   "id": "7699bba8819e1232"
  },
  {
   "cell_type": "code",
   "outputs": [],
   "source": [],
   "metadata": {
    "collapsed": false
   },
   "id": "439149b69404b175"
  },
  {
   "cell_type": "markdown",
   "source": [
    "48. 打印每个numpy标量类型的最小值和最大值？ (★★☆)\n",
    "(提示: np.iinfo, np.finfo, eps)"
   ],
   "metadata": {
    "collapsed": false
   },
   "id": "7dc66bb10b3c0994"
  },
  {
   "cell_type": "code",
   "outputs": [],
   "source": [],
   "metadata": {
    "collapsed": false
   },
   "id": "9ac4c6c7900b5639"
  },
  {
   "cell_type": "markdown",
   "source": [
    "49. 如何打印一个数组中的所有数值? (★★☆)\n",
    "(提示: np.set_printoptions)"
   ],
   "metadata": {
    "collapsed": false
   },
   "id": "68148bd546159f"
  },
  {
   "cell_type": "code",
   "outputs": [],
   "source": [],
   "metadata": {
    "collapsed": false
   },
   "id": "760d5e16a7e07dcf"
  },
  {
   "cell_type": "markdown",
   "source": [
    "50. 给定标量时，如何找到数组中最接近标量的值？(★★☆)\n",
    "(提示: argmin)"
   ],
   "metadata": {
    "collapsed": false
   },
   "id": "f726860f9d2cf07"
  },
  {
   "cell_type": "code",
   "outputs": [],
   "source": [],
   "metadata": {
    "collapsed": false
   },
   "id": "43c3a3f5dd167940"
  },
  {
   "cell_type": "markdown",
   "source": [
    "51. 创建一个表示位置(x,y)和颜色(r,g,b)的结构化数组(★★☆)\n",
    "(提示: dtype)"
   ],
   "metadata": {
    "collapsed": false
   },
   "id": "c02d17f1c151e193"
  },
  {
   "cell_type": "code",
   "outputs": [],
   "source": [],
   "metadata": {
    "collapsed": false
   },
   "id": "5e0a23891c14ea2f"
  },
  {
   "cell_type": "markdown",
   "source": [
    "52. 对一个表示坐标形状为(100,2)的随机向量，找到点与点的距离(★★☆)\n",
    "(提示: np.atleast_2d, T, np.sqrt)"
   ],
   "metadata": {
    "collapsed": false
   },
   "id": "d9c34133fc1da178"
  },
  {
   "cell_type": "code",
   "outputs": [],
   "source": [],
   "metadata": {
    "collapsed": false
   },
   "id": "26c3a44a8ef17d11"
  },
  {
   "cell_type": "markdown",
   "source": [
    "53. 如何将32位的浮点数(float)转换为对应的整数(integer)?\n",
    "(提示: astype(copy=False))"
   ],
   "metadata": {
    "collapsed": false
   },
   "id": "109e6ce117416605"
  },
  {
   "cell_type": "code",
   "outputs": [],
   "source": [],
   "metadata": {
    "collapsed": false
   },
   "id": "9e2b362186863ac8"
  },
  {
   "cell_type": "markdown",
   "source": [
    "54. 如何读取以下文件? (★★☆)\n",
    "(提示: np.genfromtxt)\n",
    "\n",
    "    1, 2, 3, 4, 5  \n",
    "    6,  ,  , 7, 8  \n",
    "     ,  , 9,10,11  "
   ],
   "metadata": {
    "collapsed": false
   },
   "id": "160bd410eb659746"
  },
  {
   "cell_type": "code",
   "outputs": [],
   "source": [],
   "metadata": {
    "collapsed": false
   },
   "id": "36b5fc54daa8210f"
  },
  {
   "cell_type": "markdown",
   "source": [
    "55. 对于numpy数组，enumerate的等价操作是什么？(★★☆)\n",
    "(提示: np.ndenumerate, np.ndindex)"
   ],
   "metadata": {
    "collapsed": false
   },
   "id": "9dcf036085e42102"
  },
  {
   "cell_type": "code",
   "outputs": [],
   "source": [],
   "metadata": {
    "collapsed": false
   },
   "id": "8af9289cfb57ebe0"
  },
  {
   "cell_type": "markdown",
   "source": [
    "56. 生成一个通用的二维Gaussian-like数组 (★★☆)\n",
    "(提示: np.meshgrid, np.exp)"
   ],
   "metadata": {
    "collapsed": false
   },
   "id": "d4aa5efe29fb8d3d"
  },
  {
   "cell_type": "code",
   "outputs": [],
   "source": [],
   "metadata": {
    "collapsed": false
   },
   "id": "79710c871b7d53fa"
  },
  {
   "cell_type": "markdown",
   "source": [
    "57. 对一个二维数组，如何在其内部随机放置p个元素? (★★☆)\n",
    "(提示: np.put, np.random.choice)"
   ],
   "metadata": {
    "collapsed": false
   },
   "id": "66aada7522632e5a"
  },
  {
   "cell_type": "code",
   "outputs": [],
   "source": [],
   "metadata": {
    "collapsed": false
   },
   "id": "a57aad22fd535724"
  },
  {
   "cell_type": "markdown",
   "source": [
    "58. 减去一个矩阵中的每一行的平均值 (★★☆)\n",
    "(提示: mean(axis=,keepdims=))"
   ],
   "metadata": {
    "collapsed": false
   },
   "id": "13d4accff144c020"
  },
  {
   "cell_type": "code",
   "outputs": [],
   "source": [],
   "metadata": {
    "collapsed": false
   },
   "id": "afaedc1900eed7b2"
  },
  {
   "cell_type": "markdown",
   "source": [
    "59. 如何通过第n列对一个数组进行排序? (★★☆)\n",
    "(提示: argsort)"
   ],
   "metadata": {
    "collapsed": false
   },
   "id": "97301cde3e77f32d"
  },
  {
   "cell_type": "code",
   "outputs": [],
   "source": [],
   "metadata": {
    "collapsed": false
   },
   "id": "86f3b17ab7c466f0"
  },
  {
   "cell_type": "markdown",
   "source": [
    "60. 如何检查一个二维数组是否有空列？(★★☆)\n",
    "(提示: any, ~)"
   ],
   "metadata": {
    "collapsed": false
   },
   "id": "c342a43a6372c8a7"
  },
  {
   "cell_type": "code",
   "outputs": [],
   "source": [],
   "metadata": {
    "collapsed": false
   },
   "id": "fad7cd60948c4ada"
  },
  {
   "cell_type": "markdown",
   "source": [
    "61. 从数组中的给定值中找出最近的值 (★★☆)\n",
    "(提示: np.abs, argmin, flat)"
   ],
   "metadata": {
    "collapsed": false
   },
   "id": "5048ae06501dd41e"
  },
  {
   "cell_type": "code",
   "outputs": [],
   "source": [],
   "metadata": {
    "collapsed": false
   },
   "id": "aff78018f31ea716"
  },
  {
   "cell_type": "markdown",
   "source": [
    "62. 如何用迭代器(iterator)计算两个分别具有形状(1,3)和(3,1)的数组? (★★☆)\n",
    "(提示: np.nditer)"
   ],
   "metadata": {
    "collapsed": false
   },
   "id": "f416e110a5cd2d5a"
  },
  {
   "cell_type": "code",
   "outputs": [],
   "source": [],
   "metadata": {
    "collapsed": false
   },
   "id": "f38404a9bd9f82ab"
  },
  {
   "cell_type": "markdown",
   "source": [
    "63. 创建一个具有name属性的数组类(★★☆)\n",
    "(提示: class方法)"
   ],
   "metadata": {
    "collapsed": false
   },
   "id": "a3d178ab29e9d320"
  },
  {
   "cell_type": "code",
   "outputs": [],
   "source": [],
   "metadata": {
    "collapsed": false
   },
   "id": "ac329d99ad3e139f"
  },
  {
   "cell_type": "markdown",
   "source": [
    "64. 考虑一个给定的向量，如何对由第二个向量索引的每个元素加1(小心重复的索引)? (★★★)\n",
    "(提示: np.bincount | np.add.at)"
   ],
   "metadata": {
    "collapsed": false
   },
   "id": "3d63cc3b44992adf"
  },
  {
   "cell_type": "code",
   "outputs": [],
   "source": [],
   "metadata": {
    "collapsed": false
   },
   "id": "13769255d19d0046"
  },
  {
   "cell_type": "markdown",
   "source": [
    "65. 根据索引列表(I)，如何将向量(X)的元素累加到数组(F)? (★★★)\n",
    "(提示: np.bincount)"
   ],
   "metadata": {
    "collapsed": false
   },
   "id": "26787aec98ef330a"
  },
  {
   "cell_type": "code",
   "outputs": [],
   "source": [],
   "metadata": {
    "collapsed": false
   },
   "id": "218ac286919a3d12"
  },
  {
   "cell_type": "markdown",
   "source": [
    "66. 考虑一个(dtype=ubyte) 的 (w,h,3)图像，计算其唯一颜色的数量(★★★)\n",
    "(提示: np.unique)"
   ],
   "metadata": {
    "collapsed": false
   },
   "id": "4551aaff6a8e3784"
  },
  {
   "cell_type": "code",
   "outputs": [],
   "source": [],
   "metadata": {
    "collapsed": false
   },
   "id": "71d913ae78de3905"
  },
  {
   "cell_type": "markdown",
   "source": [
    "67. 考虑一个四维数组，如何一次性计算出最后两个轴(axis)的和？ (★★★)\n",
    "(提示: sum(axis=(-2,-1)))"
   ],
   "metadata": {
    "collapsed": false
   },
   "id": "c4de577f4cea0fb2"
  },
  {
   "cell_type": "code",
   "outputs": [],
   "source": [],
   "metadata": {
    "collapsed": false
   },
   "id": "3cbe2ca85d55fed4"
  },
  {
   "cell_type": "markdown",
   "source": [
    "68. 考虑一个一维向量D，如何使用相同大小的向量S来计算D子集的均值？(★★★)\n",
    "(提示: np.bincount)"
   ],
   "metadata": {
    "collapsed": false
   },
   "id": "3ef7328d67ee88de"
  },
  {
   "cell_type": "code",
   "outputs": [],
   "source": [],
   "metadata": {
    "collapsed": false
   },
   "id": "f11529ef0f9988"
  },
  {
   "cell_type": "markdown",
   "source": [
    "69. 如何获得点积 dot prodcut的对角线? (★★★)\n",
    "(提示: np.diag)"
   ],
   "metadata": {
    "collapsed": false
   },
   "id": "46922091fe4bb3e1"
  },
  {
   "cell_type": "code",
   "outputs": [],
   "source": [],
   "metadata": {
    "collapsed": false
   },
   "id": "4077e0f10f091eb9"
  },
  {
   "cell_type": "markdown",
   "source": [
    "70. 考虑一个向量[1,2,3,4,5],如何建立一个新的向量，在这个新向量中每个值之间有3个连续的零？(★★★)\n",
    "(提示: array[::4])"
   ],
   "metadata": {
    "collapsed": false
   },
   "id": "a578e9db45826af1"
  },
  {
   "cell_type": "code",
   "outputs": [],
   "source": [],
   "metadata": {
    "collapsed": false
   },
   "id": "71cb9f9ed8da1635"
  },
  {
   "cell_type": "markdown",
   "source": [
    "71. 考虑一个维度(5,5,3)的数组，如何将其与一个(5,5)的数组相乘？(★★★)\n",
    "(提示: array[:, :, None])"
   ],
   "metadata": {
    "collapsed": false
   },
   "id": "b3c7901ad0a4d1e"
  },
  {
   "cell_type": "code",
   "outputs": [],
   "source": [],
   "metadata": {
    "collapsed": false
   },
   "id": "ee99b040cb41ad9f"
  },
  {
   "cell_type": "markdown",
   "source": [
    "72. 如何对一个数组中任意两行做交换? (★★★)\n",
    "(提示: array[[]] = array[[]])"
   ],
   "metadata": {
    "collapsed": false
   },
   "id": "e9e3ff2f08f218de"
  },
  {
   "cell_type": "code",
   "outputs": [],
   "source": [],
   "metadata": {
    "collapsed": false
   },
   "id": "8d0d3f6090c74f98"
  },
  {
   "cell_type": "markdown",
   "source": [
    "73. 考虑一个可以描述10个三角形的triplets，找到可以分割全部三角形的line segment\n",
    "Consider a set of 10 triplets describing 10 triangles (with shared vertices), find the set of unique line segments composing all the triangles (★★★)\n",
    "(提示: repeat, np.roll, np.sort, view, np.unique)"
   ],
   "metadata": {
    "collapsed": false
   },
   "id": "53f75f8da11f8829"
  },
  {
   "cell_type": "code",
   "outputs": [],
   "source": [],
   "metadata": {
    "collapsed": false
   },
   "id": "f788c8b168d91827"
  },
  {
   "cell_type": "markdown",
   "source": [
    "74. 给定一个二进制的数组C，如何产生一个数组A满足np.bincount(A)==C(★★★)\n",
    "(提示: np.repeat)"
   ],
   "metadata": {
    "collapsed": false
   },
   "id": "e455ef567db49482"
  },
  {
   "cell_type": "code",
   "outputs": [],
   "source": [],
   "metadata": {
    "collapsed": false
   },
   "id": "62ac90a933e0fb0"
  },
  {
   "cell_type": "markdown",
   "source": [
    "75. 如何通过滑动窗口计算一个数组的平均数? (★★★)\n",
    "(提示: np.cumsum)"
   ],
   "metadata": {
    "collapsed": false
   },
   "id": "b3c8ce59a4795c4f"
  },
  {
   "cell_type": "code",
   "outputs": [],
   "source": [],
   "metadata": {
    "collapsed": false
   },
   "id": "45989f6f2166b855"
  },
  {
   "cell_type": "markdown",
   "source": [
    "76. Consider a one-dimensional array Z, build a two-dimensional array whose first row is (Z[0],Z[1],Z[2]) and each subsequent row is shifted by 1 (last row should be (Z[-3],Z[-2],Z[-1]) (★★★)\n",
    "(提示: from numpy.lib import stride_tricks)"
   ],
   "metadata": {
    "collapsed": false
   },
   "id": "126cfceec12f56cf"
  },
  {
   "cell_type": "code",
   "outputs": [],
   "source": [],
   "metadata": {
    "collapsed": false
   },
   "id": "78223a0691f7b37c"
  },
  {
   "cell_type": "markdown",
   "source": [
    "77. 如何对布尔值取反，或者原位(in-place)改变浮点数的符号(sign)？(★★★)\n",
    "(提示: np.logical_not, np.negative)"
   ],
   "metadata": {
    "collapsed": false
   },
   "id": "9c2900da674a66c5"
  },
  {
   "cell_type": "code",
   "outputs": [],
   "source": [],
   "metadata": {
    "collapsed": false
   },
   "id": "1f36f653b9662411"
  },
  {
   "cell_type": "markdown",
   "source": [
    "78. 考虑两组点集P0和P1去描述一组线(二维)和一个点p,如何计算点p到每一条线 i (P0[i],P1[i])的距离？(★★★)"
   ],
   "metadata": {
    "collapsed": false
   },
   "id": "fbd685321fc2f986"
  },
  {
   "cell_type": "code",
   "outputs": [],
   "source": [],
   "metadata": {
    "collapsed": false
   },
   "id": "e5dbddce07330e98"
  },
  {
   "cell_type": "markdown",
   "source": [
    "79. 考虑两组点集P0和P1去描述一组线(二维)和一组点集P，如何计算每一个点 j(P[j]) 到每一条线 i (P0[i],P1[i]) 的距离？(★★★)"
   ],
   "metadata": {
    "collapsed": false
   },
   "id": "2896a812e7720c03"
  },
  {
   "cell_type": "code",
   "outputs": [],
   "source": [],
   "metadata": {
    "collapsed": false
   },
   "id": "7ea87cc0bc992489"
  },
  {
   "cell_type": "markdown",
   "source": [
    "80. Consider an arbitrary array, write a function that extract a subpart with a fixed shape and centered on a given element (pad with a fill value when necessary) (★★★)\n",
    "(hint: minimum, maximum)"
   ],
   "metadata": {
    "collapsed": false
   },
   "id": "50a6416349b8f10b"
  },
  {
   "cell_type": "code",
   "outputs": [],
   "source": [],
   "metadata": {
    "collapsed": false
   },
   "id": "2936e0a671cc6233"
  },
  {
   "cell_type": "markdown",
   "source": [
    "81. 考虑一个数组Z = [1,2,3,4,5,6,7,8,9,10,11,12,13,14],如何生成一个数组R = [[1,2,3,4], [2,3,4,5], [3,4,5,6], ...,[11,12,13,14]]? (★★★)\n",
    "(提示: stride_tricks.as_strided)"
   ],
   "metadata": {
    "collapsed": false
   },
   "id": "93900a2e2cf3f238"
  },
  {
   "cell_type": "code",
   "outputs": [],
   "source": [],
   "metadata": {
    "collapsed": false
   },
   "id": "71a98d7d9a7aca75"
  },
  {
   "cell_type": "markdown",
   "source": [
    "82. 计算一个矩阵的秩(★★★)\n",
    "(提示: np.linalg.svd)"
   ],
   "metadata": {
    "collapsed": false
   },
   "id": "f9af8f12832016cf"
  },
  {
   "cell_type": "code",
   "outputs": [],
   "source": [],
   "metadata": {
    "collapsed": false
   },
   "id": "4821c9aa84c3f0cf"
  },
  {
   "cell_type": "markdown",
   "source": [
    "83. 如何找到一个数组中出现频率最高的值？\n",
    "(提示: np.bincount, argmax)"
   ],
   "metadata": {
    "collapsed": false
   },
   "id": "3d003cfcccca5e20"
  },
  {
   "cell_type": "code",
   "outputs": [],
   "source": [],
   "metadata": {
    "collapsed": false
   },
   "id": "d8dee985cafb690b"
  },
  {
   "cell_type": "markdown",
   "source": [
    "84. 从一个10x10的矩阵中提取出连续的3x3区块(★★★)\n",
    "(提示: stride_tricks.as_strided)"
   ],
   "metadata": {
    "collapsed": false
   },
   "id": "466a547b9ad4562a"
  },
  {
   "cell_type": "code",
   "outputs": [],
   "source": [],
   "metadata": {
    "collapsed": false
   },
   "id": "7526ce07126bb00b"
  },
  {
   "cell_type": "markdown",
   "source": [
    "85. 创建一个满足 Z[i,j] == Z[j,i]的子类 (★★★)\n",
    "(提示: class 方法)"
   ],
   "metadata": {
    "collapsed": false
   },
   "id": "2f454f1e7fe2d88e"
  },
  {
   "cell_type": "code",
   "outputs": [],
   "source": [],
   "metadata": {
    "collapsed": false
   },
   "id": "b55dfc5d895d9cdf"
  },
  {
   "cell_type": "markdown",
   "source": [
    "86. 考虑p个 nxn 矩阵和一组形状为(n,1)的向量，如何直接计算p个矩阵的乘积(n,1)？(★★★)\n",
    "(提示: np.tensordot)"
   ],
   "metadata": {
    "collapsed": false
   },
   "id": "d826a08efd065af5"
  },
  {
   "cell_type": "code",
   "outputs": [],
   "source": [],
   "metadata": {
    "collapsed": false
   },
   "id": "a3b4020a628cae06"
  },
  {
   "cell_type": "markdown",
   "source": [
    "87. 对于一个16x16的数组，如何得到一个区域(block-sum)的和(区域大小为4x4)? (★★★)\n",
    "(提示: np.add.reduceat)"
   ],
   "metadata": {
    "collapsed": false
   },
   "id": "d277d87905318c6d"
  },
  {
   "cell_type": "code",
   "outputs": [],
   "source": [],
   "metadata": {
    "collapsed": false
   },
   "id": "9ba320a4b65dfa82"
  },
  {
   "cell_type": "markdown",
   "source": [
    "88. 如何利用numpy数组实现Game of Life? (★★★)\n",
    "(提示: Game of Life)"
   ],
   "metadata": {
    "collapsed": false
   },
   "id": "1775a12a7e0c563b"
  },
  {
   "cell_type": "code",
   "outputs": [],
   "source": [],
   "metadata": {
    "collapsed": false
   },
   "id": "9d9908d9bb537c55"
  },
  {
   "cell_type": "markdown",
   "source": [
    "89. 如何找到一个数组的第n个最大值? (★★★)\n",
    "(提示: np.argsort | np.argpartition)"
   ],
   "metadata": {
    "collapsed": false
   },
   "id": "35eae6c90951272e"
  },
  {
   "cell_type": "code",
   "outputs": [],
   "source": [],
   "metadata": {
    "collapsed": false
   },
   "id": "25ff4258299259aa"
  },
  {
   "cell_type": "markdown",
   "source": [
    "90. 给定任意个数向量，创建笛卡尔积(每一个元素的每一种组合)(★★★)\n",
    "(提示: np.indices)"
   ],
   "metadata": {
    "collapsed": false
   },
   "id": "681498f4a0727d9f"
  },
  {
   "cell_type": "code",
   "outputs": [],
   "source": [],
   "metadata": {
    "collapsed": false
   },
   "id": "10364c3882b7a6f2"
  },
  {
   "cell_type": "markdown",
   "source": [
    "91. 如何从一个正常数组创建记录数组(record array)? (★★★)\n",
    "(提示: np.core.records.fromarrays)"
   ],
   "metadata": {
    "collapsed": false
   },
   "id": "5241e3a620960d4d"
  },
  {
   "cell_type": "code",
   "outputs": [],
   "source": [],
   "metadata": {
    "collapsed": false
   },
   "id": "8bb4d9291f78492b"
  },
  {
   "cell_type": "markdown",
   "source": [
    "92. 考虑一个大向量Z, 用三种不同的方法计算它的立方(★★★)\n",
    "(提示: np.power, \\*, np.einsum)"
   ],
   "metadata": {
    "collapsed": false
   },
   "id": "3573170f5c7652e3"
  },
  {
   "cell_type": "code",
   "outputs": [],
   "source": [],
   "metadata": {
    "collapsed": false
   },
   "id": "35fce66ee2b10343"
  },
  {
   "cell_type": "markdown",
   "source": [
    "93. 考虑两个形状分别为(8,3) 和(2,2)的数组A和B. 如何在数组A中找到满足包含B中元素的行？(不考虑B中每行元素顺序)？ (★★★)\n",
    "(提示: np.where)"
   ],
   "metadata": {
    "collapsed": false
   },
   "id": "f9fccf70f9248821"
  },
  {
   "cell_type": "code",
   "outputs": [],
   "source": [],
   "metadata": {
    "collapsed": false
   },
   "id": "a60bd2776ea3f05a"
  },
  {
   "cell_type": "markdown",
   "source": [
    "94. 考虑一个10x3的矩阵，分解出有不全相同值的行 (如 [2,2,3]) (★★★)"
   ],
   "metadata": {
    "collapsed": false
   },
   "id": "1d63c106bc5187ca"
  },
  {
   "cell_type": "code",
   "outputs": [],
   "source": [],
   "metadata": {
    "collapsed": false
   },
   "id": "1009e31308fe42e"
  },
  {
   "cell_type": "markdown",
   "source": [
    "95. 将一个整数向量转换为matrix binary的表现形式 (★★★)\n",
    "(提示: np.unpackbits)"
   ],
   "metadata": {
    "collapsed": false
   },
   "id": "b615259f7621222"
  },
  {
   "cell_type": "code",
   "outputs": [],
   "source": [],
   "metadata": {
    "collapsed": false
   },
   "id": "fb255946c8ea18c0"
  },
  {
   "cell_type": "markdown",
   "source": [
    "96. 给定一个二维数组，如何提取出唯一的(unique)行?(★★★)\n",
    "(提示: np.ascontiguousarray)"
   ],
   "metadata": {
    "collapsed": false
   },
   "id": "be78d4bf5c09ccd1"
  },
  {
   "cell_type": "code",
   "outputs": [],
   "source": [],
   "metadata": {
    "collapsed": false
   },
   "id": "7500e84167e51a67"
  },
  {
   "cell_type": "markdown",
   "source": [
    "97. 考虑两个向量A和B，写出用einsum等式对应的inner, outer, sum, mul函数(★★★)\n",
    "(提示: np.einsum)"
   ],
   "metadata": {
    "collapsed": false
   },
   "id": "deb69a9ae24c06da"
  },
  {
   "cell_type": "code",
   "outputs": [],
   "source": [],
   "metadata": {
    "collapsed": false
   },
   "id": "68d9270f369b66ca"
  },
  {
   "cell_type": "markdown",
   "source": [
    "98. 考虑一个由两个向量描述的路径(X,Y)，如何用等距样例(equidistant samples)对其进行采样(sample)? (★★★)\n",
    "Considering a path described by two vectors (X,Y), how to sample it using equidistant samples\n",
    "(提示: np.cumsum, np.interp)"
   ],
   "metadata": {
    "collapsed": false
   },
   "id": "5a175eca3259424a"
  },
  {
   "cell_type": "code",
   "outputs": [],
   "source": [],
   "metadata": {
    "collapsed": false
   },
   "id": "fe29216d2439daa6"
  },
  {
   "cell_type": "markdown",
   "source": [
    "99. Given an integer n and a 2D array X, select from X the rows which can be interpreted as draws from a multinomial distribution with n degrees, i.e., the rows which only contain integers and which sum to n. (★★★)\n",
    "(提示: np.logical_and.reduce, np.mod)"
   ],
   "metadata": {
    "collapsed": false
   },
   "id": "441e908479884e21"
  },
  {
   "cell_type": "code",
   "outputs": [],
   "source": [],
   "metadata": {
    "collapsed": false
   },
   "id": "3f9dc8b9e9629999"
  },
  {
   "cell_type": "markdown",
   "source": [
    "100. 对于一个一维数组X，计算它boostrapped之后的95%置信区间的平均值。\n",
    "(Compute bootstrapped 95% confidence intervals for the mean of a 1D array X，i.e. resample the elements of an array with replacement N times, compute the mean of each sample, and then compute percentiles over the means). (★★★)\n",
    "(提示: np.percentile)"
   ],
   "metadata": {
    "collapsed": false
   },
   "id": "6c05b23f0b2ecf3d"
  },
  {
   "cell_type": "code",
   "outputs": [],
   "source": [],
   "metadata": {
    "collapsed": false
   },
   "id": "62f9a9d75cabdf46"
  }
 ],
 "metadata": {
  "kernelspec": {
   "display_name": "Python 3",
   "language": "python",
   "name": "python3"
  },
  "language_info": {
   "codemirror_mode": {
    "name": "ipython",
    "version": 2
   },
   "file_extension": ".py",
   "mimetype": "text/x-python",
   "name": "python",
   "nbconvert_exporter": "python",
   "pygments_lexer": "ipython2",
   "version": "2.7.6"
  }
 },
 "nbformat": 4,
 "nbformat_minor": 5
}
